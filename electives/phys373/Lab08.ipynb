{
 "cells": [
  {
   "attachments": {},
   "cell_type": "markdown",
   "metadata": {},
   "source": [
    "# Ibraheem F. Al-Yousef\n",
    "# PHYS373"
   ]
  },
  {
   "attachments": {},
   "cell_type": "markdown",
   "metadata": {},
   "source": [
    "# Q1)"
   ]
  },
  {
   "cell_type": "code",
   "execution_count": 1,
   "metadata": {},
   "outputs": [],
   "source": [
    "import sympy as sp\n",
    "import numpy as np\n",
    "\n",
    "def trapezoid_multiple_application(f, a, b, n, printing):\n",
    "    h = (b - a) / n  # step size\n",
    "    x = sp.Symbol('x')\n",
    "    trap_sum = 0  # sum of trapezoid areas\n",
    "\n",
    "    # Loop through the subintervals and apply multiple application rule\n",
    "    for i in range(n):\n",
    "        xi = a + i * h\n",
    "        fi = f(xi)  # function value at xi\n",
    "        fip1 = f(xi + h)  # function value at xi+1\n",
    "        trap_sum += (fi + fip1) / 2\n",
    "    approximate_integral = trap_sum * h\n",
    "\n",
    "    # Calculate the exact integral using sympy\n",
    "    exact_integral = sp.integrate(f(x), (x, a, b))\n",
    "    exact_integral_numerical = exact_integral.evalf()\n",
    "\n",
    "    # Calculate the relative error\n",
    "    relative_error = abs(approximate_integral - exact_integral_numerical) / abs(exact_integral_numerical)*100\n",
    "    \n",
    "    if printing == 'yes':\n",
    "        print(f\"Approximate integral: {approximate_integral}\")\n",
    "        print(f\"Exact integral (symbolic): {exact_integral}\")\n",
    "        print(f\"Exact integral (numerical): {exact_integral_numerical}\")\n",
    "        print(f\"Relative error: {relative_error}%\")\n",
    "    else:\n",
    "        return relative_error.evalf(), approximate_integral\n",
    "    \n",
    "def simpsons_rule(f, a, b, n, printing):\n",
    "    if n < 2:\n",
    "        n=2    \n",
    "    h = (b - a) / (n)  # Step size\n",
    "    x = a  # Initial value of x\n",
    "    integral = f(a) + f(b)  # Initialize the integral with the first and last function values\n",
    "\n",
    "    # Loop to compute the sum of the intermediate function values\n",
    "    for i in range(1, n):\n",
    "        x += h  # Update x\n",
    "        # Alternate between 4*f(x) and 2*f(x) depending on whether i is odd or even\n",
    "        integral += 4 * f(x) if i % 2 else 2 * f(x)\n",
    "\n",
    "    integral *= h / 3  # Multiply by h/3 as per Simpson's 1/3 Rule\n",
    "    \n",
    "    # Calculate the approximate integral using Simpson's 1/3 Rule\n",
    "    approx_integral = integral\n",
    "\n",
    "    # Calculate the exact integral using SymPy\n",
    "    x = sp.Symbol('x')\n",
    "    exact_integral = sp.integrate(f(x), (x, a, b))\n",
    "\n",
    "    # Get the numerical value of the exact integral\n",
    "    exact_integral_numerical = exact_integral.evalf()\n",
    "    \n",
    "    # Calculate the relative error\n",
    "    relative_error = abs(approx_integral - exact_integral_numerical) / abs(exact_integral_numerical)*100\n",
    "    \n",
    "    if printing == 'yes':\n",
    "        print(f\"Approximate integral: {approx_integral}\")\n",
    "        print(f\"Exact integral (symbolic): {exact_integral}\")\n",
    "        print(f\"Exact integral (numerical): {exact_integral_numerical}\")\n",
    "        print(f\"Relative error: {relative_error}%\")\n",
    "    else:\n",
    "        return relative_error.evalf(), approx_integral\n",
    "    \n",
    "def simpsons_3_8_rule(f, a, b, n,printing):\n",
    "    if n < 3:\n",
    "        n=3\n",
    "    h = (b - a) / (n)  # Step size\n",
    "    x = a  # Initial value of x\n",
    "    integral = f(a) + f(b)  # Initialize the integral with the first and last function values\n",
    "\n",
    "    # Loop to compute the sum of the intermediate function values\n",
    "    for i in range(1, n):\n",
    "        x += h  # Update x\n",
    "        # Alternate between 3*f(x) and 2*f(x) depending on whether i is a multiple of 3\n",
    "        if i % 3 == 0:\n",
    "            integral += 2 * f(x)\n",
    "        else:\n",
    "            integral += 3 * f(x)\n",
    "\n",
    "    integral *= 3 * h / 8  # Multiply by 3h/8 as per Simpson's 3/8 Rule\n",
    "    # Calculate the approximate integral using Simpson's 3/8 Rule\n",
    "    approx_integral = integral\n",
    "\n",
    "    # Calculate the exact integral using SymPy\n",
    "    x = sp.Symbol('x')\n",
    "    exact_integral = sp.integrate(f(x), (x, a, b))\n",
    "\n",
    "    # Get the numerical value of the exact integral\n",
    "    exact_integral_numerical = exact_integral.evalf()\n",
    "    \n",
    "    # Calculate the relative error\n",
    "    relative_error = abs(approx_integral - exact_integral_numerical) / abs(exact_integral_numerical)*100\n",
    "    if printing == 'yes':\n",
    "        print(f\"Approximate integral: {approx_integral}\")\n",
    "        print(f\"Exact integral (symbolic): {exact_integral}\")\n",
    "        print(f\"Exact integral (numerical): {exact_integral_numerical}\")\n",
    "        print(f\"Relative error: {relative_error}%\")\n",
    "    else:\n",
    "        return relative_error.evalf(), approx_integral\n",
    "    \n",
    "def monte_carlo_integration(f, a, b, n,printing):\n",
    "    # Calculate the exact integral using SymPy\n",
    "    x = sp.Symbol('x')\n",
    "    exact_integral = sp.integrate(f(x), (x, a, b))\n",
    "    f = sp.lambdify(x, f(x), 'numpy')\n",
    "    # Generate n random points uniformly in the integration interval\n",
    "    x = np.random.uniform(a, b, n)\n",
    "    # Evaluate the function at the random points\n",
    "    fx = f(x)\n",
    "    # Calculate the average of the function values\n",
    "    integral = np.mean(fx)\n",
    "    # Scale the result by the integration interval\n",
    "    integral *= (b - a)\n",
    "    approx_integral = integral\n",
    "\n",
    "    # Get the numerical value of the exact integral\n",
    "    exact_integral_numerical = exact_integral.evalf()\n",
    "    \n",
    "    # Calculate the relative error\n",
    "    relative_error = abs(approx_integral - exact_integral_numerical) / abs(exact_integral_numerical)*100\n",
    "    if printing == 'yes':\n",
    "        print(f\"Approximate integral: {approx_integral}\")\n",
    "        print(f\"Exact integral (symbolic): {exact_integral}\")\n",
    "        print(f\"Exact integral (numerical): {exact_integral_numerical}\")\n",
    "        print(f\"Relative error: {relative_error}%\")\n",
    "    else:\n",
    "        return relative_error.evalf(), approx_integral"
   ]
  },
  {
   "attachments": {},
   "cell_type": "markdown",
   "metadata": {},
   "source": [
    "## a) Exact:"
   ]
  },
  {
   "cell_type": "code",
   "execution_count": 2,
   "metadata": {},
   "outputs": [
    {
     "data": {
      "text/latex": [
       "$\\displaystyle I = - \\log{\\left(2 \\right)} + \\log{\\left(3 \\right)}$"
      ],
      "text/plain": [
       "Eq(I, -log(2) + log(3))"
      ]
     },
     "metadata": {},
     "output_type": "display_data"
    }
   ],
   "source": [
    "# Define the function to be integrated with SymPy\n",
    "def f(x):\n",
    "    return 1/(x+1)\n",
    "\n",
    "# Calculate the exact integral using SymPy\n",
    "x = sp.Symbol('x')\n",
    "exact_integral = sp.integrate(f(x), (x, 1, 2))\n",
    "display(sp.Eq(sp.Symbol('I'),exact_integral))"
   ]
  },
  {
   "attachments": {},
   "cell_type": "markdown",
   "metadata": {},
   "source": [
    "## b) Trapezoid Method:"
   ]
  },
  {
   "cell_type": "code",
   "execution_count": 3,
   "metadata": {},
   "outputs": [
    {
     "name": "stdout",
     "output_type": "stream",
     "text": [
      "For one interval: \n",
      "Approximate integral: 0.41666666666666663\n",
      "Exact integral (symbolic): -log(2) + log(3)\n",
      "Exact integral (numerical): 0.405465108108164\n",
      "Relative error: 2.76264426568464%\n",
      "The number of intervals needed to obtain 0.01000% relative error is 18\n"
     ]
    }
   ],
   "source": [
    "# Define the function to be integrated with SymPy\n",
    "\n",
    "def f(x):\n",
    "    return 1/(x+1)\n",
    "\n",
    "# Specify the interval and number of subintervals\n",
    "a = 1\n",
    "b = 2\n",
    "n = 1\n",
    "tolerance=0.01\n",
    "error=2*tolerance\n",
    "\n",
    "while error>tolerance:\n",
    "    error,dummy = trapezoid_multiple_application(f, a, b, n, 0)\n",
    "    n+=1\n",
    "print('For one interval: ')\n",
    "trapezoid_multiple_application(f, a, b, 1, 'yes')\n",
    "print('The number of intervals needed to obtain %.5f%% relative error is %i' %(tolerance,n))"
   ]
  },
  {
   "attachments": {},
   "cell_type": "markdown",
   "metadata": {},
   "source": [
    "## c) Simpson’s 1/3-Rule:"
   ]
  },
  {
   "cell_type": "code",
   "execution_count": 4,
   "metadata": {},
   "outputs": [
    {
     "name": "stdout",
     "output_type": "stream",
     "text": [
      "For one interval: \n",
      "Approximate integral: 0.40555555555555556\n",
      "Exact integral (symbolic): -log(2) + log(3)\n",
      "Exact integral (numerical): 0.405465108108164\n",
      "Relative error: 0.0223070852663961%\n",
      "The number of intervals needed to obtain 0.01000% relative error is 5\n"
     ]
    }
   ],
   "source": [
    "# Define the function to be integrated with SymPy\n",
    "\n",
    "def f(x):\n",
    "    return 1/(1+x)\n",
    "\n",
    "# Specify the interval and number of subintervals\n",
    "a = 1\n",
    "b = 2\n",
    "n = 1\n",
    "tolerance=0.01\n",
    "error=2*tolerance\n",
    "\n",
    "print('For one interval: ')\n",
    "simpsons_rule(f, a, b, 1, 'yes')\n",
    "while error>tolerance:\n",
    "    error,dummy = simpsons_rule(f, a, b, n, 0)\n",
    "    n+=1\n",
    "print('The number of intervals needed to obtain %.5f%% relative error is %i' %(tolerance,n))"
   ]
  },
  {
   "attachments": {},
   "cell_type": "markdown",
   "metadata": {},
   "source": [
    "## d) Simpson’s 3/8-Rule:"
   ]
  },
  {
   "cell_type": "code",
   "execution_count": 5,
   "metadata": {},
   "outputs": [
    {
     "name": "stdout",
     "output_type": "stream",
     "text": [
      "For one interval: \n",
      "Approximate integral: 0.4055059523809524\n",
      "Exact integral (symbolic): -log(2) + log(3)\n",
      "Exact integral (numerical): 0.405465108108164\n",
      "Relative error: 0.0100734371395289%\n",
      "The number of intervals needed to obtain 0.01000% relative error is 7\n"
     ]
    }
   ],
   "source": [
    "# Define the function to be integrated with SymPy\n",
    "\n",
    "def f(x):\n",
    "    return 1/(x+1)\n",
    "\n",
    "# Specify the interval and number of subintervals\n",
    "a = 1\n",
    "b = 2\n",
    "n = 1\n",
    "tolerance=0.01\n",
    "error=2*tolerance\n",
    "\n",
    "print('For one interval: ')\n",
    "simpsons_3_8_rule(f, a, b, 1, 'yes')\n",
    "\n",
    "while error>tolerance:\n",
    "    error,dummy = simpsons_3_8_rule(f, a, b, n, 0)\n",
    "    n+=1\n",
    "print('The number of intervals needed to obtain %.5f%% relative error is %i' %(tolerance,n))"
   ]
  },
  {
   "attachments": {},
   "cell_type": "markdown",
   "metadata": {},
   "source": [
    "## e) Monte Carlo"
   ]
  },
  {
   "cell_type": "code",
   "execution_count": 6,
   "metadata": {},
   "outputs": [
    {
     "name": "stdout",
     "output_type": "stream",
     "text": [
      "For one interval: \n",
      "Approximate integral: 0.43663800790799395\n",
      "Exact integral (symbolic): -log(2) + log(3)\n",
      "Exact integral (numerical): 0.405465108108164\n",
      "Relative error: 7.68818307086332%\n",
      "The number of intervals needed to obtain 0.01000% relative error is 76\n"
     ]
    }
   ],
   "source": [
    "# Define the function to be integrated with SymPy\n",
    "\n",
    "def f(x):\n",
    "    return 1/(x+1)\n",
    "\n",
    "# Specify the interval and number of subintervals\n",
    "a = 1\n",
    "b = 2\n",
    "n = 1\n",
    "tolerance=0.01\n",
    "error=2*tolerance\n",
    "\n",
    "# Specify a seed for reproducibility \n",
    "np.random.seed(0)\n",
    "\n",
    "# a While loop\n",
    "while error>tolerance:\n",
    "    error,dummy = monte_carlo_integration(f, a, b, n, 0)\n",
    "    n+=1\n",
    "print('For one interval: ')\n",
    "monte_carlo_integration(f, a, b, 1,'yes')\n",
    "print('The number of intervals needed to obtain %.5f%% relative error is %i' %(tolerance,n))"
   ]
  },
  {
   "attachments": {},
   "cell_type": "markdown",
   "metadata": {},
   "source": [
    "# Q2)"
   ]
  },
  {
   "cell_type": "code",
   "execution_count": 7,
   "metadata": {},
   "outputs": [
    {
     "name": "stdout",
     "output_type": "stream",
     "text": [
      "Trapezoid Method  : 0.3437500\n",
      "Simpson’s 1/3-Rule: 0.333333333333333\n",
      "Simpson’s 3/8-Rule: 0.287109375000000\n",
      "Exact Solution is : 0.333333333333333\n"
     ]
    }
   ],
   "source": [
    "# Define the function to be integrated with SymPy\n",
    "\n",
    "def f(x):\n",
    "    return x*x\n",
    "\n",
    "# Specify the interval and number of subintervals\n",
    "a = 0\n",
    "b = 1\n",
    "n = 4\n",
    "\n",
    "x,solT=trapezoid_multiple_application(f, a, b, n,0)\n",
    "x,sol13=simpsons_rule(f, a, b, n,0)\n",
    "x,sol38=simpsons_3_8_rule(f, a, b, n,0)\n",
    "x = sp.Symbol('x')\n",
    "exact=sp.integrate(f(x), (x, a, b)).evalf()\n",
    "print('Trapezoid Method  : %.7f'%solT)\n",
    "print('Simpson’s 1/3-Rule: %.15f'%sol13)\n",
    "print('Simpson’s 3/8-Rule: %.15f'%sol38)\n",
    "print('Exact Solution is : %.15f'%exact)"
   ]
  },
  {
   "attachments": {},
   "cell_type": "markdown",
   "metadata": {},
   "source": [
    "# Q3)"
   ]
  },
  {
   "cell_type": "code",
   "execution_count": 8,
   "metadata": {},
   "outputs": [
    {
     "name": "stdout",
     "output_type": "stream",
     "text": [
      "Approximate integral: 1.26379029714011\n",
      "Exact integral (symbolic): 1.29192819501249\n",
      "Exact integral (numerical): 1.29192819501249\n",
      "Relative error: 2.17797691706149%\n"
     ]
    }
   ],
   "source": [
    "# Define the function to be integrated with SymPy\n",
    "\n",
    "def f(x):\n",
    "    return x**2\n",
    "\n",
    "# Specify the interval and number of subintervals\n",
    "a = 0\n",
    "b = (sp.pi/2).evalf()\n",
    "n = 10000\n",
    "monte_carlo_integration(f, a, b, n,'yes')"
   ]
  }
 ],
 "metadata": {
  "kernelspec": {
   "display_name": "Python 3",
   "language": "python",
   "name": "python3"
  },
  "language_info": {
   "codemirror_mode": {
    "name": "ipython",
    "version": 3
   },
   "file_extension": ".py",
   "mimetype": "text/x-python",
   "name": "python",
   "nbconvert_exporter": "python",
   "pygments_lexer": "ipython3",
   "version": "3.10.5"
  },
  "orig_nbformat": 4
 },
 "nbformat": 4,
 "nbformat_minor": 2
}
