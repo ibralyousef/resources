{
 "cells": [
  {
   "attachments": {},
   "cell_type": "markdown",
   "metadata": {},
   "source": [
    "# Ibraheem Al-Yousef PHY373"
   ]
  },
  {
   "attachments": {},
   "cell_type": "markdown",
   "metadata": {},
   "source": [
    "## Q1) Definition of the Gaussian elimination:"
   ]
  },
  {
   "cell_type": "code",
   "execution_count": 26,
   "metadata": {},
   "outputs": [],
   "source": [
    "import numpy as np\n",
    "def gaussian_elimination(A, b):\n",
    "    n = len(A)\n",
    "    for i in range(n):\n",
    "        # Reorder rows based on the highest of the diagonal elements\n",
    "        max_row = i\n",
    "        for j in range(i+1, n):\n",
    "            if abs(A[j,i]) > abs(A[max_row,i]):\n",
    "                max_row = j\n",
    "        A[[i,max_row]] = A[[max_row,i]]\n",
    "        b[[i,max_row]] = b[[max_row,i]]\n",
    "        \n",
    "        # Eliminate\n",
    "        for j in range(i+1, n):\n",
    "            factor = A[j,i] / A[i,i]\n",
    "            A[j,i:] = A[j,i:] - factor * A[i,i:]\n",
    "            b[j] = b[j] - factor * b[i]\n",
    "    \n",
    "    # Back-substitution\n",
    "    x = np.zeros(n)\n",
    "    for i in range(n-1, -1, -1):\n",
    "        x[i] = (b[i] - np.dot(A[i,i+1:], x[i+1:])) / A[i,i]\n",
    "    \n",
    "    return x\n"
   ]
  },
  {
   "attachments": {},
   "cell_type": "markdown",
   "metadata": {},
   "source": [
    "## Solve the example in Slide#6 Week-05 by Gaussian elimination:"
   ]
  },
  {
   "cell_type": "code",
   "execution_count": 27,
   "metadata": {},
   "outputs": [
    {
     "name": "stdout",
     "output_type": "stream",
     "text": [
      "x1 = 3.00\n",
      "x2 = 1.00\n",
      "x3 = -2.00\n",
      "x4 = 1.00\n",
      "\n"
     ]
    }
   ],
   "source": [
    "A = np.array([[6,-2,2,4],[12,-8,6,10],[3,-13,9,3],[-6,4,1,-18]])\n",
    "b = np.array([16,26,-19,-34])\n",
    "x = gaussian_elimination(A, b)\n",
    "print(\"x1 = %.2f\\nx2 = %.2f\\nx3 = %.2f\\nx4 = %.2f\\n\" %(x[0],x[1],x[2],x[3]))"
   ]
  },
  {
   "attachments": {},
   "cell_type": "markdown",
   "metadata": {},
   "source": [
    "## Q2) Solve the same example by the matrix inverse method:"
   ]
  },
  {
   "cell_type": "code",
   "execution_count": 28,
   "metadata": {},
   "outputs": [
    {
     "name": "stdout",
     "output_type": "stream",
     "text": [
      "x1 = 3.00\n",
      "x2 = 1.00\n",
      "x3 = -2.00\n",
      "x4 = 1.00\n",
      "\n"
     ]
    }
   ],
   "source": [
    "A = np.array([[6,-2,2,4],[12,-8,6,10],[3,-13,9,3],[-6,4,1,-18]])\n",
    "b = np.array([16,26,-19,-34])\n",
    "x = np.dot(np.linalg.inv(A),b)\n",
    "print(\"x1 = %.2f\\nx2 = %.2f\\nx3 = %.2f\\nx4 = %.2f\\n\" %(x[0],x[1],x[2],x[3]))"
   ]
  },
  {
   "attachments": {},
   "cell_type": "markdown",
   "metadata": {},
   "source": [
    "## Q3) Importing the coefficient \\& augmented matrices from a file, then exporting the solution"
   ]
  },
  {
   "cell_type": "code",
   "execution_count": 145,
   "metadata": {},
   "outputs": [
    {
     "name": "stdout",
     "output_type": "stream",
     "text": [
      "I1 = -0.468\n",
      "I2 = 0.429\n",
      "I3 = 0.005\n",
      "I4 = -0.222\n",
      "I5 = -0.278\n",
      "I6 = 0.211\n",
      "I7 = 0.209\n",
      "\n"
     ]
    }
   ],
   "source": [
    "A = np.loadtxt('coefficient.txt')\n",
    "b = np.loadtxt('augmented.txt')\n",
    "# Uncoment if the files are not available\n",
    "# A = [[ 72.,   0., -17., -35.,   0.,   0.,   0.],[  0., 122., -35.,   0.,   0.,   0., -87.], [  0., -87., -34.,   0.,   0., -72., 233.],[-17., -35., 149.,   0., -28., -35., -34.],[  0.,   0., -28., -43., 105., -34.,   0.],[  0.,   0., -35.,   0., -34., 141., -72.],[-35.,   0.,   0., 105., -43.,   0.,   0.]]\n",
    "# b = [-26.,  34.,  -4., -13., -27.,  24.,   5.]\n",
    "I = np.dot(np.linalg.inv(A),b)\n",
    "with open('solutions.txt', 'w') as f:\n",
    "    for i, sol in enumerate(I):\n",
    "        f.write('I%d: %.3f\\n' % (i+1, sol))\n",
    "print(\"I1 = %.3f\\nI2 = %.3f\\nI3 = %.3f\\nI4 = %.3f\\nI5 = %.3f\\nI6 = %.3f\\nI7 = %.3f\\n\" %(I[0],I[1],I[2],I[3],I[4],I[5],I[6]))"
   ]
  },
  {
   "attachments": {},
   "cell_type": "markdown",
   "metadata": {},
   "source": [
    "## Extra: Comparison between the speed of the two methods, by solving a 2000x2000 matrix"
   ]
  },
  {
   "cell_type": "code",
   "execution_count": 137,
   "metadata": {},
   "outputs": [
    {
     "name": "stdout",
     "output_type": "stream",
     "text": [
      "Execution time for the Gaussian-Elimination method is: 15.923034191131592 seconds\n",
      "Execution time for the Inverse-Matrix method is: 0.24005413055419922 seconds\n",
      "The average error between the two methods is: 5.007905201637186e-17\n"
     ]
    }
   ],
   "source": [
    "np.random.seed(42)\n",
    "import time\n",
    "# Generate a 2000x2000 matrix with random reals between 0 and 100\n",
    "A = np.round(np.random.uniform(low=0, high=101, size=(2000, 2000)), decimals=5)\n",
    "b = np.round(np.random.uniform(low=0, high=101, size=(2000, 1)), decimals=5)\n",
    "start_time = time.time()\n",
    "gau= gaussian_elimination(A, b)\n",
    "end_time = time.time()\n",
    "print(f\"Execution time for the Gaussian-Elimination method is: {end_time - start_time} seconds\")\n",
    "start_time2 = time.time()\n",
    "inv= np.dot(np.linalg.inv(A),b)\n",
    "end_time2 = time.time()\n",
    "print(f\"Execution time for the Inverse-Matrix method is: {end_time2 - start_time2} seconds\")\n",
    "print('The average error between the two methods is:', abs(np.average(inv - gau)))"
   ]
  }
 ],
 "metadata": {
  "kernelspec": {
   "display_name": "Python 3",
   "language": "python",
   "name": "python3"
  },
  "language_info": {
   "codemirror_mode": {
    "name": "ipython",
    "version": 3
   },
   "file_extension": ".py",
   "mimetype": "text/x-python",
   "name": "python",
   "nbconvert_exporter": "python",
   "pygments_lexer": "ipython3",
   "version": "3.10.5"
  },
  "orig_nbformat": 4,
  "vscode": {
   "interpreter": {
    "hash": "3196968d684371006099b3d55edeef8ed90365227a30deaef86e5d4aa8519be0"
   }
  }
 },
 "nbformat": 4,
 "nbformat_minor": 2
}
