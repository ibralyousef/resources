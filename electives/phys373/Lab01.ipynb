{
 "cells": [
  {
   "cell_type": "markdown",
   "metadata": {},
   "source": [
    "# Ibraheem Al-Yousef PHYS373"
   ]
  },
  {
   "cell_type": "markdown",
   "metadata": {},
   "source": [
    "# Q2) Write a program that prints the sum of the first ten positive integers:"
   ]
  },
  {
   "cell_type": "code",
   "execution_count": 63,
   "metadata": {},
   "outputs": [
    {
     "name": "stdout",
     "output_type": "stream",
     "text": [
      "  ****    *****    *****      **     **  **   ******   ******   **   ** \n",
      "   **     **  **   **  **    ****    **  **   **       **       *** *** \n",
      "   **     **  **   **  **   **  **   **  **   **       **       ******* \n",
      "   **     *****    *****    ******   ******   ****     ****     ** * ** \n",
      "   **     **  **   ****     **  **   **  **   **       **       **   ** \n",
      "   **     **  **   ** **    **  **   **  **   **       **       **   ** \n",
      "  ****    *****    **  **   **  **   **  **   ******   ******   **   ** \n",
      "                                                                        \n",
      "\n"
     ]
    }
   ],
   "source": [
    "from art import *\n",
    "print(text2art(\"Ibraheem\",font=\"4x4_offr\").replace(\"#\", \"*\" ))"
   ]
  },
  {
   "cell_type": "markdown",
   "metadata": {},
   "source": [
    "# Q3) Write\ta program that prints your name in large letters:"
   ]
  },
  {
   "cell_type": "code",
   "execution_count": null,
   "metadata": {},
   "outputs": [],
   "source": [
    "s=0\n",
    "for i in range(11):\n",
    "    s+=i\n",
    "print(\"The sum of the first %i numbers, i.e., 1+2+3+...+%i=%i\" %(i, i, s))"
   ]
  },
  {
   "cell_type": "markdown",
   "metadata": {},
   "source": [
    "# Q5) Write a program that gives you the multiplication table of 6 from 1 to 10:"
   ]
  },
  {
   "cell_type": "code",
   "execution_count": 67,
   "metadata": {},
   "outputs": [
    {
     "name": "stdout",
     "output_type": "stream",
     "text": [
      "Enter a number to tabulate its multiplication table: 9\n",
      "9 x 1 = 9\n",
      "9 x 2 = 18\n",
      "9 x 3 = 27\n",
      "9 x 4 = 36\n",
      "9 x 5 = 45\n",
      "9 x 6 = 54\n",
      "9 x 7 = 63\n",
      "9 x 8 = 72\n",
      "9 x 9 = 81\n",
      "9 x 10 = 90\n"
     ]
    }
   ],
   "source": [
    "p=int(input(\"Enter a number to tabulate its multiplication table: \"))\n",
    "for i in range(1,11):\n",
    "    print(\"%i x %i = %i\" %(p,i,p*i))"
   ]
  },
  {
   "cell_type": "markdown",
   "metadata": {},
   "source": [
    "# Q6) Modify the above program to get the multiplication table from 10 to 1:"
   ]
  },
  {
   "cell_type": "code",
   "execution_count": 8,
   "metadata": {},
   "outputs": [
    {
     "name": "stdout",
     "output_type": "stream",
     "text": [
      "Enter a number to tabulate its product table: 9\n",
      "9 x 10 = 90\n",
      "9 x 9 = 81\n",
      "9 x 8 = 72\n",
      "9 x 7 = 63\n",
      "9 x 6 = 54\n",
      "9 x 5 = 45\n",
      "9 x 4 = 36\n",
      "9 x 3 = 27\n",
      "9 x 2 = 18\n",
      "9 x 1 = 9\n"
     ]
    }
   ],
   "source": [
    "p=int(input(\"Enter a number to tabulate its product table: \"))\n",
    "for i in range(10,0,-1):\n",
    "    print(\"%i x %i = %i\" %(p,i,p*i))"
   ]
  },
  {
   "cell_type": "markdown",
   "metadata": {},
   "source": [
    "# Q7) Write a program that asks you to enter your grade in PHYS-373 course and then indicate pass or fail:"
   ]
  },
  {
   "cell_type": "code",
   "execution_count": null,
   "metadata": {},
   "outputs": [],
   "source": [
    "g=int(input(\"Enter your grade: \"))\n",
    "if g>= 50:\n",
    "    print(\"Congratulations!!\\nYou have passed the course\")\n",
    "else:\n",
    "    print(\"I am sorry you have failed the course\")"
   ]
  },
  {
   "cell_type": "markdown",
   "metadata": {},
   "source": [
    "# Q8) Write a program to solve a quadratic equation ax2 + b x + c =0:"
   ]
  },
  {
   "cell_type": "code",
   "execution_count": 7,
   "metadata": {},
   "outputs": [
    {
     "name": "stdout",
     "output_type": "stream",
     "text": [
      "Enter a, b and c respectivly. Separated by a space. Use I for imaginary: 1 3 2\n",
      "The solutions are distinct reals\n",
      "x1= -2.00000000000000\n",
      "x2= -1.00000000000000\n"
     ]
    }
   ],
   "source": [
    "from sympy import *\n",
    "import sympy\n",
    "import numpy as np\n",
    "\n",
    "def solve_quadratic(a, b, c):\n",
    "    x = sympy.Symbol('x')\n",
    "    sol = sympy.solve(a*x**2 + b*x + c, x)\n",
    "    return sol\n",
    "\n",
    "a, b, c = [complex(i.replace(\"I\", \"j\" )) for i in input(\"Enter a, b and c respectivly. Separated by a space. Use I for imaginary: \").split()]\n",
    "if b*b-4*a*c==0:\n",
    "    print(\"The solutions are equal reals\")\n",
    "    print(\"x1, x2= %s\" %(str(solve_quadratic(a, b, c))))\n",
    "elif a==0:\n",
    "    print(\"There is only one solution, namely:\")\n",
    "    print(\"x1= %s\" %(str(solve_quadratic(a, b, c)[0])))\n",
    "elif re(b*b-4*a*c)>0:\n",
    "    print(\"The solutions are distinct reals\")\n",
    "    print(\"x1= %s\\nx2= %s\" %(str(solve_quadratic(a, b, c)[0]), str(solve_quadratic(a, b, c)[1])))\n",
    "else:\n",
    "    print(\"The solutions are distinct complex\")\n",
    "    print(\"x1= %s\\nx2= %s\" %(str(solve_quadratic(a, b, c)[0]), str(solve_quadratic(a, b, c)[1])))\n"
   ]
  },
  {
   "cell_type": "markdown",
   "metadata": {},
   "source": [
    "# Q9) Use python to graph x^2 function from -10 to 10:"
   ]
  },
  {
   "cell_type": "code",
   "execution_count": 68,
   "metadata": {
    "scrolled": true
   },
   "outputs": [
    {
     "data": {
      "image/png": "[encoded data removed]",
      "text/plain": [
       "<Figure size 432x288 with 1 Axes>"
      ]
     },
     "metadata": {
      "needs_background": "light"
     },
     "output_type": "display_data"
    }
   ],
   "source": [
    "import matplotlib.pyplot as plt\n",
    "import numpy as np\n",
    "\n",
    "x = np.linspace(-10, 10, 1000)\n",
    "\n",
    "plt.plot(x, 6*x*x, 'black', label='6x^2')\n",
    "plt.legend()\n",
    "plt.plot(x, x*x*x+200, 'r', label='x^3+200')\n",
    "plt.legend()\n",
    "plt.plot(x, 500-x*x*x, 'b', label='500-x^3')\n",
    "plt.legend()\n",
    "plt.xlabel('x')\n",
    "plt.ylabel('y(x)')\n",
    "plt.axhline(0, color='black', linewidth=.5)\n",
    "plt.axvline(0, color='black', linewidth=.5)\n",
    "plt.title('Plot of different powers of x')\n",
    "plt.grid()\n",
    "plt.show()\n"
   ]
  }
 ],
 "metadata": {
  "kernelspec": {
   "display_name": "Python 3 (ipykernel)",
   "language": "python",
   "name": "python3"
  },
  "language_info": {
   "codemirror_mode": {
    "name": "ipython",
    "version": 3
   },
   "file_extension": ".py",
   "mimetype": "text/x-python",
   "name": "python",
   "nbconvert_exporter": "python",
   "pygments_lexer": "ipython3",
   "version": "3.9.7"
  },
  "vscode": {
   "interpreter": {
    "hash": "3196968d684371006099b3d55edeef8ed90365227a30deaef86e5d4aa8519be0"
   }
  }
 },
 "nbformat": 4,
 "nbformat_minor": 2
}
