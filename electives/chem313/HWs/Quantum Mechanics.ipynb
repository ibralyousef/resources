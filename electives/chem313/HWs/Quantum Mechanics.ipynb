{
 "cells": [
  {
   "cell_type": "markdown",
   "id": "8f3fe346",
   "metadata": {},
   "source": [
    "# Linear Variational Method\n",
    "\n",
    "Often, a trial function $\\Phi$ is written as a linear combination of basis function:\n",
    "\\begin{align}\n",
    "\\Phi = \\sum_i c_i | \\phi_i \\rangle = \\sum_i c_i | i \\rangle\n",
    "\\end{align}\n",
    "In the linear variational method, the basis functions are fixed but the expansion coefficients $c_i$ are varied until the minimum energy is found. The basis functions do not need to be normalized or orthogonal. The expectation value for the energy becomes:\n",
    "\n",
    "\\begin{align}\n",
    "E[\\Phi] = \\frac{\\sum_{ij} c_i^* c_j \\langle i| \\hat{H} | j \\rangle}\n",
    "               {\\sum_{ij} c_i^* c_j \\langle i| j \\rangle}.\n",
    "\\end{align}\n",
    "\n",
    "The elements of the **Hamiltonian** and the **overlap** matrices are:\n",
    "\n",
    "\\begin{align}\n",
    "H_{ij} &= \\langle i| \\hat{H} | j \\rangle \\\\\n",
    "S_{ij} &= \\langle i| j \\rangle,\n",
    "\\end{align}\n",
    "\n",
    "which gives:\n",
    "\\begin{align}\n",
    "E[\\Phi] = \\frac{\\sum_{ij}c_i^* c_j H_{ij}}{\\sum_{ij} c_i^* c_j S_{ij}}\n",
    "\\end{align} \n",
    "\n",
    "Differentiating the energy with respect to the expansion coefficients $c_i$ gives a non-trivial solution only if the following \"secular determinant\" equals 0.\n",
    "\n",
    "\\begin{align}\n",
    "\\begin{vmatrix}\n",
    "    H_{11}-E S_{11} & H_{12}-E S_{12} & \\cdots & H_{1N}-E S_{1N} \\\\\n",
    "    H_{21}-E S_{21} & H_{22}-E S_{22} & \\cdots & H_{2N}-E S_{2N} \\\\\n",
    "    \\vdots          & \\vdots          & \\vdots & \\vdots \\\\\n",
    "    H_{N1}-E S_{N1} & H_{N2}-E S_{N2} & \\cdots & H_{NN}-E S_{NN}\n",
    "\\end{vmatrix}\n",
    "= 0\n",
    "\\end{align}\n",
    "\n",
    "For an orthonormal basis, $S_{ij}=\\delta_{ij}$, and the secular determinant becomes much simpler:\n",
    "\\begin{align}\n",
    "\\begin{vmatrix}\n",
    "    H_{11}-E & H_{12}   & \\cdots & H_{1N}   \\\\\n",
    "    H_{21}   & H_{22}-E & \\cdots & H_{2N}   \\\\\n",
    "    \\vdots   & \\vdots   & \\vdots & \\vdots   \\\\\n",
    "    H_{N1}   & H_{N2}   & \\cdots & H_{NN}-E\n",
    "\\end{vmatrix}\n",
    "= 0\n",
    "\\end{align}\n",
    "\n",
    "In either case, the secular determinant for $N$ basis functions gives an $N$th order polynomial in $E$. Solving the polynomial gives $N$ values for the energy, the minimum value corresponding to the ground state energy."
   ]
  },
  {
   "cell_type": "markdown",
   "id": "43c07f4a",
   "metadata": {},
   "source": [
    "# Linear variational method for the hydrogen atom\n",
    "The exact wavefunction and energy for the hydrogen atom are known:\n",
    "\\begin{align}\n",
    "\\psi_{100} &= \\frac{1}{\\sqrt{\\pi}} e^{-r} \\\\\n",
    "E_{gs} &= -\\frac{1}{2}\n",
    "\\end{align}\n",
    "\n",
    "However, suppose that we want to calculate the ground state energy of hydrogen using a linear combination of **Gaussian-type orbitals** ($e^{-\\zeta r^2})$ as our basis function. Our trial wavefunction is given by:\n",
    "\n",
    "\\begin{align}\n",
    "\\Phi &= c_1 |1 \\rangle + c_2 |2 \\rangle + c_3 |3 \\rangle  \\\\\n",
    "     &= c_1 e^{-\\zeta_1 r^2} + c_2 e^{-\\zeta_2 r^2} + c_3 e^{-\\zeta_3 r^2}\n",
    "\\end{align}\n",
    "We will use a fixed set of values for the exponent $\\zeta$, but we will use the coefficients $c_1, c_2$ and $c_3$ as our variational parameters. Construct the secular determinant and \n",
    "estimate the ground state energy for hydrogen. Use the values 0.16885540, 0.62391373 and 3.42525091 for $\\zeta$."
   ]
  },
  {
   "cell_type": "code",
   "execution_count": 1,
   "id": "4926c49f",
   "metadata": {},
   "outputs": [
    {
     "name": "stdout",
     "output_type": "stream",
     "text": [
      "The minimum energy is: -0.4957 which is a very close to the true value of -0.5\n"
     ]
    }
   ],
   "source": [
    "import sympy\n",
    "import numpy as np\n",
    "\n",
    "r = sympy.symbols(\"r\", real=True, nonnegative=True)\n",
    "E = sympy.symbols(\"E\", real=True)\n",
    "\n",
    "zetas = [0.16885540, 0.62391373, 3.42525091]\n",
    "phi = [sympy.exp(-zeta*r**2) for zeta in zetas]\n",
    "HS = lambda psi : -1/2*(1/r**2)*sympy.diff(r**2*sympy.diff(psi, r), r) - psi/r\n",
    "m = [[(sympy.Integral(phi[i]*HS(phi[j])*r**2*4*sympy.pi,(r, 0, sympy.oo)).simplify()) - E * sympy.Integral(phi[i]*phi[j]*r**2*4*sympy.pi,(r, 0, sympy.oo)).simplify() for i in range(3)]for j in range(3)]\n",
    "m= sympy.Matrix(m)\n",
    "\n",
    "secular_equation = m.det().evalf()\n",
    "solution = sympy.solveset(secular_equation, E)\n",
    "print(\"The minimum energy is: %.4f which is a very close to the true value of -0.5\" %solution.args[0])"
   ]
  }
 ],
 "metadata": {
  "kernelspec": {
   "display_name": "Python 3 (ipykernel)",
   "language": "python",
   "name": "python3"
  },
  "language_info": {
   "codemirror_mode": {
    "name": "ipython",
    "version": 3
   },
   "file_extension": ".py",
   "mimetype": "text/x-python",
   "name": "python",
   "nbconvert_exporter": "python",
   "pygments_lexer": "ipython3",
   "version": "3.9.7"
  }
 },
 "nbformat": 4,
 "nbformat_minor": 5
}
