{
 "cells": [
  {
   "cell_type": "code",
   "execution_count": 116,
   "metadata": {},
   "outputs": [],
   "source": [
    "\"\"\"Calculating Spectroscopic Constants from a Potential Energy Surface\"\"\"\n",
    "\n",
    "__authors__ = \"Ashley Ringer McDonald\"\n",
    "__credits__ = [\"Dominic A. Sirianni\"]\n",
    "__email__   = [\"armcdona@calpoly.edu\"]\n",
    "\n",
    "__copyright__ = \"(c) 2008-2019, The Psi4Education Developers\"\n",
    "__license__   = \"BSD-3-Clause\"\n",
    "__date__      = \"2019-11-18\""
   ]
  },
  {
   "cell_type": "markdown",
   "metadata": {},
   "source": [
    "# Calculating Spectroscopic Constants from a Potential Energy Surface  \n",
    "The spectroscopic constants for a diatomic molecule can be calculated from a series of potential energies computed for different bond separations.  In this lab, you will calculate the spectroscopic constants for two molecules and compare their force constants.  You will also study the effect of using the harmonic approximation in determining the vibrational energy levels.  "
   ]
  },
  {
   "cell_type": "markdown",
   "metadata": {},
   "source": [
    "To use this lab: As you work through the lab, be sure to execute each code block.  If you don't, then when you try to write you own code, it will tell you the previous variable are undefined because the prior code blocks were not executed."
   ]
  },
  {
   "cell_type": "markdown",
   "metadata": {},
   "source": [
    "First we import the electronic structure functions into our notebook.  "
   ]
  },
  {
   "cell_type": "code",
   "execution_count": 117,
   "metadata": {},
   "outputs": [],
   "source": [
    "import psi4\n",
    "import numpy as np\n",
    "import matplotlib.pyplot as plt\n",
    "import sympy"
   ]
  },
  {
   "cell_type": "markdown",
   "metadata": {},
   "source": [
    "Next contruct the molecule using the PSI4 input structure and define the values of the bond length, R.  Here we build an HF molecule."
   ]
  },
  {
   "cell_type": "code",
   "execution_count": 118,
   "metadata": {},
   "outputs": [],
   "source": [
    "mol_tmpl = \"\"\"H\n",
    "F 1 **R**\"\"\"\n",
    "rvals = [0.8, 0.85, 0.9, 0.95, 1.0]"
   ]
  },
  {
   "cell_type": "markdown",
   "metadata": {},
   "source": [
    "Each of the following `psi4.` functions calls uses the Psi4 program.  The `psi4.geometry` function creates the molecule and the `psi4.energy` function calculates the SCF/cc-pVDZ energy."
   ]
  },
  {
   "cell_type": "code",
   "execution_count": 119,
   "metadata": {},
   "outputs": [
    {
     "name": "stdout",
     "output_type": "stream",
     "text": [
      "[0.8, 0.85, 0.9, 0.95, 1.0]\n",
      "[-100.00264748472989, -100.01584984980659, -100.01969338232016, -100.01702310946796, -100.00985995181856]\n"
     ]
    }
   ],
   "source": [
    "molecules =[]\n",
    "energies = []\n",
    "for r in rvals:\n",
    "    molecule = psi4.geometry(mol_tmpl.replace(\"**R**\", str(r)))\n",
    "    molecules.append(molecule)\n",
    "for mol in molecules:\n",
    "    energy = psi4.energy(\"SCF/cc-pVDZ\", molecule=mol)\n",
    "    energies.append(energy)\n",
    "print(rvals)\n",
    "print(energies)"
   ]
  },
  {
   "cell_type": "markdown",
   "metadata": {},
   "source": [
    "This makes a nicer chart"
   ]
  },
  {
   "cell_type": "code",
   "execution_count": 120,
   "metadata": {},
   "outputs": [
    {
     "name": "stdout",
     "output_type": "stream",
     "text": [
      "0.8 : -100.00264748472989\n",
      "0.85 : -100.01584984980659\n",
      "0.9 : -100.01969338232016\n",
      "0.95 : -100.01702310946796\n",
      "1.0 : -100.00985995181856\n"
     ]
    }
   ],
   "source": [
    "for num, r in enumerate(rvals):\n",
    "    print(r, ':', energies[num])"
   ]
  },
  {
   "cell_type": "markdown",
   "metadata": {},
   "source": [
    "*What is the general trend in the energy for these bond distances? Offer an explaination as to why this seems reasonable.*"
   ]
  },
  {
   "cell_type": "markdown",
   "metadata": {},
   "source": [
    "Student answer box: the energy decreases as the bond increases until it reaches minimum energy with the optimum bond length, then the energy starts to increase again "
   ]
  },
  {
   "cell_type": "markdown",
   "metadata": {},
   "source": [
    "Activity: *Plot the energies vs. R*"
   ]
  },
  {
   "cell_type": "code",
   "execution_count": 121,
   "metadata": {},
   "outputs": [
    {
     "data": {
      "image/png": "[encoded data removed]",
      "text/plain": [
       "<Figure size 432x288 with 1 Axes>"
      ]
     },
     "metadata": {
      "needs_background": "light"
     },
     "output_type": "display_data"
    }
   ],
   "source": [
    "#Write you code here\n",
    "plt.plot(rvals, energies, 'black')\n",
    "\n",
    "plt.ylabel(\"Energy (Hartree)\")\n",
    "plt.xlabel(\"Bond Length in Å\")\n",
    "plt.title(\"HF\")\n",
    "plt.show()"
   ]
  },
  {
   "cell_type": "markdown",
   "metadata": {},
   "source": [
    "The next function uses the bonds distances and the energies to derive the spectroscopic constants for the molecule.  These are output to a python dictionary which is called data in this example.  All of the values are given in cm$^{-1}$."
   ]
  },
  {
   "cell_type": "code",
   "execution_count": 122,
   "metadata": {},
   "outputs": [],
   "source": [
    "data = psi4.diatomic.anharmonicity(rvals, energies)"
   ]
  },
  {
   "cell_type": "code",
   "execution_count": 123,
   "metadata": {},
   "outputs": [
    {
     "name": "stdout",
     "output_type": "stream",
     "text": [
      "{'re': 0.9014127115020593, 'r0': 0.909919977016546, 'we': 4440.843495395646, 'wexe': 95.78946466253993, 'nu': 4249.264566070566, 'E(re)': -100.01969593667276, 'ZPVE(harmonic)': 2220.421747697823, 'ZPVE(anharmonic)': 2196.474381532188, 'Be': 21.67764589105128, 'B0': 21.274191979772727, 'ae': 0.8069078225571094, 'De': 0.002066166940993677}\n"
     ]
    }
   ],
   "source": [
    "print(data)"
   ]
  },
  {
   "cell_type": "markdown",
   "metadata": {},
   "source": [
    "To access an element of data in a later computation, you use the syntax: "
   ]
  },
  {
   "cell_type": "code",
   "execution_count": 124,
   "metadata": {},
   "outputs": [
    {
     "data": {
      "text/plain": [
       "4249.264566070566"
      ]
     },
     "execution_count": 124,
     "metadata": {},
     "output_type": "execute_result"
    }
   ],
   "source": [
    "data['nu']"
   ]
  },
  {
   "cell_type": "markdown",
   "metadata": {},
   "source": [
    "Activity: *Calculate the energies of the n vibrational levels.  Recall that the vibrational energy levels are given by $$ E_n = \\omega_e \\left( n+ \\frac{1}{2} \\right)  - \\omega_e x_e \\left( n + \\frac{1}{2} \\right)^2   $$ where the second term is the anharmonic correction.  Assuming J=0, calculate the energy for the n=0 to n=3 energy levels, with and without the anharmonic correction.  Remember, you can access the $ \\omega_e $ and $ \\omega_e x_e $ values from the `data` dictionary.  Have your code print your values.*"
   ]
  },
  {
   "cell_type": "code",
   "execution_count": 125,
   "metadata": {},
   "outputs": [
    {
     "name": "stdout",
     "output_type": "stream",
     "text": [
      "The energy for n = 0 without correction is: 2220.42\n",
      "The energy for n = 0 with anharmonic correction is: 2196.47 \n",
      "\n",
      "The energy for n = 1 without correction is: 6661.27\n",
      "The energy for n = 1 with anharmonic correction is: 6445.74 \n",
      "\n",
      "The energy for n = 2 without correction is: 11102.11\n",
      "The energy for n = 2 with anharmonic correction is: 10503.42 \n",
      "\n",
      "The energy for n = 3 without correction is: 15542.95\n",
      "The energy for n = 3 with anharmonic correction is: 14369.53 \n",
      "\n"
     ]
    }
   ],
   "source": [
    "#Write your code here\n",
    "Ene = lambda n : data['we']*(n+1/2)\n",
    "Corre = lambda n : data['wexe']*(n+1/2)**2\n",
    "for n in range(0,4):\n",
    "    print(\"The energy for n = %d without correction is: %.2f\" %(n,Ene(n)))\n",
    "    print(\"The energy for n = %d with anharmonic correction is: %.2f \\n\" %(n,Ene(n)-Corre(n)))"
   ]
  },
  {
   "cell_type": "markdown",
   "metadata": {},
   "source": [
    "Activity: *Calculate the difference between the harmonic and the anharmonic energies and print these values.*"
   ]
  },
  {
   "cell_type": "code",
   "execution_count": 126,
   "metadata": {},
   "outputs": [
    {
     "name": "stdout",
     "output_type": "stream",
     "text": [
      "The difference between harmonic and anharmonic energy for n = 0 is: 23.95\n",
      "The difference between harmonic and anharmonic energy for n = 1 is: 215.53\n",
      "The difference between harmonic and anharmonic energy for n = 2 is: 598.68\n",
      "The difference between harmonic and anharmonic energy for n = 3 is: 1173.42\n"
     ]
    }
   ],
   "source": [
    "# Write your code here\n",
    "for n in range(0,4):\n",
    "    print(\"The difference between harmonic and anharmonic energy for n = %d is: %.2f\" %(n,Ene(n)-(Ene(n)-Corre(n))))"
   ]
  },
  {
   "cell_type": "markdown",
   "metadata": {},
   "source": [
    "*Is it more important to include anharmonicity corrections for ground state energy calculations or excited state calculations? Explain your answer.*"
   ]
  },
  {
   "cell_type": "markdown",
   "metadata": {},
   "source": [
    "Write your answer here:  it is only important for excited states since there is not much difference at ground state level"
   ]
  },
  {
   "cell_type": "markdown",
   "metadata": {},
   "source": [
    "Activity: *Calculate the $ \\Delta E $ for n=0 to n=1 and n=1 to n=2.  Compare the results for the harmonic approximation and the anharmonic results.*"
   ]
  },
  {
   "cell_type": "code",
   "execution_count": 127,
   "metadata": {},
   "outputs": [
    {
     "name": "stdout",
     "output_type": "stream",
     "text": [
      "Delta E between n = 0 and 1 is: 4440.84 for harmonic, and 4249.26 for anharmonic\n",
      "Delta E between n = 1 and 2 is: 4440.84 for harmonic, and 4057.69 for anharmonic\n"
     ]
    }
   ],
   "source": [
    "# Write you code here\n",
    "for n in range(0,2):\n",
    "    print(\"Delta E between n = %d and %d is: %.2f for harmonic, and %.2f for anharmonic\" %(n,n+1,Ene(n+1)-Ene(n),(Ene(n+1)-Corre(n+1))-(Ene(n)-Corre(n))))"
   ]
  },
  {
   "cell_type": "markdown",
   "metadata": {},
   "source": [
    "*Is the spacing of the energy levels equal?  Explain your answer.*  "
   ]
  },
  {
   "cell_type": "markdown",
   "metadata": {},
   "source": [
    "Write your answer here: the spacing is equal for harmonic energies only, since the anharmonic is not linear and has square exponent hence the spacing of the energies are not expected to be equal."
   ]
  },
  {
   "cell_type": "markdown",
   "metadata": {
    "collapsed": true
   },
   "source": [
    "Activity: *Calculate the force constant for the HF bond in N/m.  $$ \\omega_e = \\frac{1}{2\\pi c} \\sqrt \\frac{k}{\\mu} $$  Remember that $ \\mu $ is the reduced mass of HF.*"
   ]
  },
  {
   "cell_type": "code",
   "execution_count": 128,
   "metadata": {},
   "outputs": [
    {
     "name": "stdout",
     "output_type": "stream",
     "text": [
      "k is equal to 1112.193\n"
     ]
    }
   ],
   "source": [
    "# Write your code here\n",
    "k = sympy.symbols('k')\n",
    "m1=1.008\n",
    "m2=18.99\n",
    "mu = (m1*m2)/(m1+m2)\n",
    "system = data['we']*100-(2*sympy.pi*299792458)**-1*sympy.sqrt(k/((mu)*psi4.constants.amu2kg))\n",
    "sol = sympy.solve(system, k)\n",
    "print(\"k is equal to %.3f\" %sol[0])"
   ]
  },
  {
   "cell_type": "markdown",
   "metadata": {},
   "source": [
    "Activity: *Construct and plot the PES for CO.  Determine $\\omega_e$, $\\omega_e x_e$, $\\mu$, and k for CO.  Add additional cells to your jupyter notebook as needed.* "
   ]
  },
  {
   "cell_type": "code",
   "execution_count": 129,
   "metadata": {},
   "outputs": [
    {
     "data": {
      "image/png": "[encoded data removed]",
      "text/plain": [
       "<Figure size 432x288 with 1 Axes>"
      ]
     },
     "metadata": {
      "needs_background": "light"
     },
     "output_type": "display_data"
    }
   ],
   "source": [
    "mol_tmpl = \"\"\"C\n",
    "O 1 **R**\"\"\"\n",
    "rvals = [0.9, 0.95, 1.0, 1.05, 1.1, 1.15, 1.2, 1.25, 1.3, 1.35, 1.4, 1.45, 1.5, 1.55, 1.6]\n",
    "molecules =[]\n",
    "energies = []\n",
    "for r in rvals:\n",
    "    molecule = psi4.geometry(mol_tmpl.replace(\"**R**\", str(r)))\n",
    "    molecules.append(molecule)\n",
    "for mol in molecules:\n",
    "    energy = psi4.energy(\"SCF/cc-pVDZ\", molecule=mol)\n",
    "    energies.append(energy)\n",
    "data1 = psi4.diatomic.anharmonicity(rvals, energies)    \n",
    "plt.plot(rvals, energies, 'black')\n",
    "plt.ylabel(\"Energy (Hartree)\")\n",
    "plt.xlabel(\"Bond Length in Å\")\n",
    "plt.title(\"CO\")\n",
    "plt.show()\n"
   ]
  },
  {
   "cell_type": "code",
   "execution_count": 130,
   "metadata": {},
   "outputs": [
    {
     "name": "stdout",
     "output_type": "stream",
     "text": [
      "The energy for n = 0 without correction is: 1235.42\n",
      "The energy for n = 0 with anharmonic correction is: 1231.30 \n",
      "\n",
      "The energy for n = 1 without correction is: 3706.26\n",
      "The energy for n = 1 with anharmonic correction is: 3669.15 \n",
      "\n",
      "The energy for n = 2 without correction is: 6177.10\n",
      "The energy for n = 2 with anharmonic correction is: 6074.02 \n",
      "\n",
      "The energy for n = 3 without correction is: 8647.95\n",
      "The energy for n = 3 with anharmonic correction is: 8445.91 \n",
      "\n"
     ]
    }
   ],
   "source": [
    "Ene = lambda n : data1['we']*(n+1/2)\n",
    "Corre = lambda n : data1['wexe']*(n+1/2)**2\n",
    "for n in range(0,4):\n",
    "    print(\"The energy for n = %d without correction is: %.2f\" %(n,Ene(n)))\n",
    "    print(\"The energy for n = %d with anharmonic correction is: %.2f \\n\" %(n,Ene(n)-Corre(n)))"
   ]
  },
  {
   "cell_type": "code",
   "execution_count": 131,
   "metadata": {},
   "outputs": [
    {
     "name": "stdout",
     "output_type": "stream",
     "text": [
      "The difference between harmonic and anharmonic energy for n = 0 is: 4.12\n",
      "The difference between harmonic and anharmonic energy for n = 1 is: 37.11\n",
      "The difference between harmonic and anharmonic energy for n = 2 is: 103.08\n",
      "The difference between harmonic and anharmonic energy for n = 3 is: 202.04\n"
     ]
    }
   ],
   "source": [
    "for n in range(0,4):\n",
    "    print(\"The difference between harmonic and anharmonic energy for n = %d is: %.2f\" %(n,Ene(n)-(Ene(n)-Corre(n))))"
   ]
  },
  {
   "cell_type": "code",
   "execution_count": 132,
   "metadata": {},
   "outputs": [
    {
     "name": "stdout",
     "output_type": "stream",
     "text": [
      "we is equal to 2470.84 cm-1\n",
      "wexe is equal to 16.49 cm-1\n",
      "mu is equal to 6.86 kg\n",
      "k is equal to 2467.74 N/m \n"
     ]
    }
   ],
   "source": [
    "k = sympy.symbols('k')\n",
    "m1=12.011\n",
    "m2=15.999\n",
    "mu = (m1*m2)/(m1+m2)\n",
    "system = data1['we']*100-(2*sympy.pi*299792458)**-1*sympy.sqrt(k/((mu)*psi4.constants.amu2kg))\n",
    "sol = sympy.solve(system, k)\n",
    "printy =[data1['we'], data1['wexe'], mu , sol[0]]\n",
    "print(\"we is equal to %.2f cm-1\" %printy[0])\n",
    "print(\"wexe is equal to %.2f cm-1\" %printy[1])\n",
    "print(\"mu is equal to %.2f kg\" %printy[2])\n",
    "print(\"k is equal to %.2f N/m \" %printy[3])"
   ]
  },
  {
   "cell_type": "markdown",
   "metadata": {},
   "source": [
    "Question: *Based on your results, is anharmonicity a more significant factor for HF or CO?*"
   ]
  },
  {
   "cell_type": "markdown",
   "metadata": {},
   "source": [
    "Write your answer here: it is a more significant factor in HF than it is in CO"
   ]
  },
  {
   "cell_type": "markdown",
   "metadata": {},
   "source": [
    "Question: *Is the force constant greater for HF or CO?  Do your results agree with the typical bond orders expected for HF and CO?*"
   ]
  },
  {
   "cell_type": "markdown",
   "metadata": {},
   "source": [
    "Write your answer here: It is greater in CO, and it does agree with the expected bond order"
   ]
  }
 ],
 "metadata": {
  "anaconda-cloud": {},
  "kernelspec": {
   "display_name": "Python 3 (ipykernel)",
   "language": "python",
   "name": "python3"
  },
  "language_info": {
   "codemirror_mode": {
    "name": "ipython",
    "version": 3
   },
   "file_extension": ".py",
   "mimetype": "text/x-python",
   "name": "python",
   "nbconvert_exporter": "python",
   "pygments_lexer": "ipython3",
   "version": "3.8.12"
  }
 },
 "nbformat": 4,
 "nbformat_minor": 1
}
