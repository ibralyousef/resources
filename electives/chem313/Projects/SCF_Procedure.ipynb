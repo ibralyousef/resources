{
 "cells": [
  {
   "cell_type": "code",
   "execution_count": 31,
   "metadata": {},
   "outputs": [],
   "source": [
    "import psi4\n",
    "import numpy as np\n",
    "import datetime\n",
    "from scipy import linalg as splinalg"
   ]
  },
  {
   "cell_type": "code",
   "execution_count": 32,
   "metadata": {},
   "outputs": [
    {
     "name": "stdout",
     "output_type": "stream",
     "text": [
      "The Hartree-Fock ground state energy of the water is: -40.195172 Eh\n"
     ]
    }
   ],
   "source": [
    "psi4.set_memory('500 MB')\n",
    "numpy_memory = 2\n",
    "psi4.core.set_output_file('output.dat', False)\n",
    "basis = '6-31g(d)'\n",
    "psi4.set_options({'basis': basis,\n",
    "                  'scf_type': 'pk',\n",
    "                  'e_convergence': 1e-8})\n",
    "mol = psi4.geometry(\"\"\"\n",
    "5\n",
    "\n",
    "C    0.00000000  0.00000000  0.00000000\n",
    "H    0.00000000 -0.88480900 -0.62565400\n",
    "H   -0.00000000  0.88480900 -0.62565400\n",
    "H   -0.88480900  0.00000000  0.62565400\n",
    "H    0.88480900  0.00000000  0.62565400\n",
    "\"\"\")\n",
    "SCF_E_psi = psi4.energy('scf')\n",
    "psi4.core.clean()\n",
    "print(f\"The Hartree-Fock ground state energy of the water is: {SCF_E_psi:.6f} Eh\")"
   ]
  },
  {
   "cell_type": "code",
   "execution_count": 33,
   "metadata": {},
   "outputs": [
    {
     "name": "stdout",
     "output_type": "stream",
     "text": [
      "Q:(T/F) The AO basis is orthonormal? A: True\n"
     ]
    },
    {
     "data": {
      "text/plain": [
       "True"
      ]
     },
     "execution_count": 33,
     "metadata": {},
     "output_type": "execute_result"
    }
   ],
   "source": [
    "wfn = psi4.core.Wavefunction.build(mol, psi4.core.get_global_option('basis'))\n",
    "ndocc = wfn.nalpha()\n",
    "nbf = wfn.basisset().nbf()\n",
    "mints = psi4.core.MintsHelper(wfn.basisset())\n",
    "S_matrix = mints.ao_overlap()\n",
    "S = np.asarray(S_matrix) \n",
    "#Testing for orthonormality\n",
    "def isBasisOrthonormal(S):\n",
    "    size_S = S.shape[0] \n",
    "    identity_matrix = np.eye(size_S) \n",
    "    orthonormal_check = np.allclose(S, identity_matrix)\n",
    "    print(F'Q:(T/F) The AO basis is orthonormal? A: {orthonormal_check}')\n",
    "    return orthonormal_check\n",
    "A = splinalg.sqrtm(np.linalg.inv(S))\n",
    "S_p = A.dot(S.dot(A))\n",
    "T = np.asarray(mints.ao_kinetic())\n",
    "V = np.asarray(mints.ao_potential())\n",
    "H = T + V\n",
    "F_p = A.dot(H.dot(A))\n",
    "vals, vecs = np.linalg.eigh(F_p)\n",
    "C=A.dot(vecs)\n",
    "C_occ = C[:, :ndocc]\n",
    "D = np.einsum('pi,qi->pq',C_occ ,C_occ )\n",
    "I = np.asarray(mints.ao_eri())\n",
    "J = np.einsum('rs,pqrs->pq',D,I )\n",
    "K = np.einsum('rq,pqrs->ps',D,I )\n",
    "F = H + 2*J - K\n",
    "isBasisOrthonormal(S_p)"
   ]
  },
  {
   "cell_type": "code",
   "execution_count": 34,
   "metadata": {},
   "outputs": [
    {
     "name": "stdout",
     "output_type": "stream",
     "text": [
      "==> Starting SCF Iterations <==\n",
      "\n",
      "SCF Iteration 1: Energy = -32.63726674 dE = -32.63726674\n",
      "SCF Iteration 2: Energy = -37.38707223 dE = -4.74980549\n",
      "SCF Iteration 3: Energy = -39.30045787 dE = -1.91338564\n",
      "SCF Iteration 4: Energy = -40.02417358 dE = -0.72371571\n",
      "SCF Iteration 5: Energy = -40.16482105 dE = -0.14064746\n",
      "SCF Iteration 6: Energy = -40.19016280 dE = -0.02534175\n",
      "SCF Iteration 7: Energy = -40.19434476 dE = -0.00418196\n",
      "SCF Iteration 8: Energy = -40.19503599 dE = -0.00069123\n",
      "SCF Iteration 9: Energy = -40.19514954 dE = -0.00011356\n",
      "SCF Iteration 10: Energy = -40.19516824 dE = -0.00001869\n",
      "SCF Iteration 11: Energy = -40.19517131 dE = -0.00000307\n",
      "SCF Iteration 12: Energy = -40.19517182 dE = -0.00000051\n",
      "SCF Iteration 13: Energy = -40.19517190 dE = -0.00000008\n",
      "SCF Iteration 14: Energy = -40.19517191 dE = -0.00000001\n",
      "SCF Iteration 15: Energy = -40.19517192 dE = -0.00000000\n",
      "\n",
      "SCF converged.\n",
      "Final RHF Energy: -40.195172 [Eh]\n",
      "This took 0.740000 seconds\n"
     ]
    }
   ],
   "source": [
    "start_time = datetime.datetime.now()\n",
    "# ==> Nuclear Repulsion Energy <==\n",
    "E_nuc = mol.nuclear_repulsion_energy()\n",
    "\n",
    "# ==> SCF Iterations <==\n",
    "SCF_E = 0.0\n",
    "E_old = 0.0\n",
    "MAXITER = 40\n",
    "E_conv = 1.0e-8\n",
    "\n",
    "print('==> Starting SCF Iterations <==\\n')\n",
    "\n",
    "# Begin Iterations\n",
    "for scf_iter in range(1, MAXITER + 1):\n",
    "    I = np.asarray(mints.ao_eri())\n",
    "    J = np.einsum('rs,pqrs->pq',D,I )\n",
    "    K = np.einsum('rq,pqrs->ps',D,I )\n",
    "    F = H + 2*J - K    \n",
    "    SCF_E = E_nuc + np.einsum('pq->',(H+F)*(D))\n",
    "    print(F'SCF Iteration {scf_iter}: Energy = {SCF_E:.8f} dE = {SCF_E - E_old:.8f}')\n",
    "    if (abs(SCF_E - E_old) < E_conv):\n",
    "        break\n",
    "    E_old = SCF_E\n",
    "    F_p=A.dot(F.dot(A))\n",
    "    vals, vecs = np.linalg.eigh(F_p)\n",
    "    C=A.dot(vecs)\n",
    "    C_occ = C[:, :ndocc]\n",
    "    D = np.einsum('pi,qi->pq',C_occ ,C_occ ) \n",
    "    if (scf_iter == MAXITER):\n",
    "        psi4.core.clean()\n",
    "        raise Exception(\"Maximum number of SCF iterations exceeded.\")\n",
    "\n",
    "# Post iterations\n",
    "print('\\nSCF converged.')\n",
    "print(F'Final RHF Energy: {SCF_E:.6f} [Eh]')\n",
    "end_time = datetime.datetime.now()\n",
    "print(\"This took %f seconds\" %(end_time-start_time).total_seconds())"
   ]
  },
  {
   "cell_type": "code",
   "execution_count": 35,
   "metadata": {},
   "outputs": [
    {
     "name": "stdout",
     "output_type": "stream",
     "text": [
      "    My SCF Procedure......................................................................PASSED\n",
      "Psi4 calculations took 0.333000 seconds\n"
     ]
    }
   ],
   "source": [
    "import datetime\n",
    "start_time = datetime.datetime.now()\n",
    "SCF_E_psi = psi4.energy('SCF')\n",
    "end_time = datetime.datetime.now()\n",
    "psi4.core.clean()\n",
    "assert psi4.compare_values(SCF_E_psi, SCF_E, 8, 'My SCF Procedure')\n",
    "print(\"Psi4 calculations took %f seconds\" %(end_time-start_time).total_seconds())"
   ]
  },
  {
   "cell_type": "code",
   "execution_count": 38,
   "metadata": {},
   "outputs": [],
   "source": [
    "#HF,H2O,NH3,CH4,H2S in minimal Basis Set STO-3G\n",
    "psiTime=[0.193001,0.218000,0.237000,0.306002,0.232999]\n",
    "meTime=[0.011997,0.034001,0.052000,0.062002,0.100998 ]\n",
    "#HF,H2O,NH3,CH4,H2S in 6-31g(d) Basis Set\n",
    "psit=[0.217003,0.262000,0.267002,0.333000,0.274001]\n",
    "met=[0.218998,0.410999,0.643001,0.740000,0.900000]"
   ]
  },
  {
   "cell_type": "code",
   "execution_count": 39,
   "metadata": {},
   "outputs": [
    {
     "data": {
      "image/png": "[encoded data removed]",
      "text/plain": [
       "<Figure size 720x360 with 2 Axes>"
      ]
     },
     "metadata": {
      "needs_background": "light"
     },
     "output_type": "display_data"
    }
   ],
   "source": [
    "import matplotlib.pyplot as plt\n",
    "\n",
    "x = ['HF','H2O','NH3','CH4','H2S']\n",
    "fig, (ax1, ax2) = plt.subplots(1, 2,figsize=(10,5))\n",
    "fig.suptitle('Comparison between My procedure and PSI4')\n",
    "ax1.plot(x,psiTime,'ro-',label=\"PSI4\")\n",
    "ax1.plot(x,meTime,'ko-',label=\"Me\")\n",
    "ax1.set_title('Time comparison in STO-3G')\n",
    "ax1.set(xlabel='Molecule in a minimal basis set',ylabel='Time (s)')\n",
    "ax1.legend()\n",
    "ax2.plot(x,psit,'ro-',label=\"PSI4\")\n",
    "ax2.plot(x,met,'ko-',label=\"Me\")\n",
    "plt.xlabel('Molecule in a minimal basis set')\n",
    "plt.ylabel('Time (s)')\n",
    "ax2.set_title('Time comparison in 6-31g(d)')\n",
    "ax2.set(xlabel='Molecule in 6-31g(d)',ylabel='Time (s)')\n",
    "ax2.legend()\n",
    "plt.savefig('tcomp.pdf') \n",
    "plt.show()"
   ]
  }
 ],
 "metadata": {
  "interpreter": {
   "hash": "ef2cac78251ba5dd0141e3e6c05d2fdd622b64ca603ac05bee1a57eeaf86e9c2"
  },
  "kernelspec": {
   "display_name": "Python 3.8.12 ('p4env')",
   "language": "python",
   "name": "python3"
  },
  "language_info": {
   "codemirror_mode": {
    "name": "ipython",
    "version": 3
   },
   "file_extension": ".py",
   "mimetype": "text/x-python",
   "name": "python",
   "nbconvert_exporter": "python",
   "pygments_lexer": "ipython3",
   "version": "3.8.12"
  },
  "orig_nbformat": 4
 },
 "nbformat": 4,
 "nbformat_minor": 2
}
